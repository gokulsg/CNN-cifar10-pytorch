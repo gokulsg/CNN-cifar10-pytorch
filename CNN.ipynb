{
 "cells": [
  {
   "cell_type": "markdown",
   "metadata": {
    "id": "13935de6-9e28-4f76-83da-6f72218e3bef"
   },
   "source": [
    "# NNIA Assignment 8\n",
    "\n",
    "**DEADLINE: 19. 1. 2022 08:00 CET**\n",
    "Submission more than 10 minutes past the deadline will **not** be graded!\n",
    "\n",
    "- Gokul Srinivasagan (gosr00001)\n",
    "- Hours of work per person: 5 hours of individual work\n",
    "\n",
    "# Submission Instructions\n",
    "\n",
    "**IMPORTANT** Please make sure you read the following instructions carefully. If you are unclear about any part of the assignment, ask questions **before** the assignment deadline. All course-related questions can be addressed on the course **[Piazza Platform](https://piazza.com/class/kvc3vzhsvh55rt)**.\n",
    "\n",
    "* Assignments are to be submitted in a **team of 2**.\n",
    "* Please include your **names**, **ID's**, **Teams usernames**, and **approximate total time spent per person** at the beginning of the Notebook in the space provided\n",
    "* Make sure you appropriately comment your code wherever required.\n",
    "* Your final submission should contain this completed Jupyter Notebook, including the bonus question (if you attempt it), and any necessary Python files.\n",
    "* Do **not** submit any data or cache files (e.g. `__pycache__`).\n",
    "* Upload the **zipped** folder (*.zip* is the only accepted extension) in **Teams**.\n",
    "* Only **one member** of the group should make the submisssion.\n",
    "* **Important** please name the submitted zip folder as: `Name1_id1_Name2_id2.zip`. The Jupyter Notebook should also be named: `Name1_id1_Name2_id2.ipynb`. This is **very important** for our internal organization epeatedly students fail to do this."
   ]
  },
  {
   "cell_type": "markdown",
   "metadata": {
    "id": "0bfbdf7d-6c39-4eba-8b18-8cf8b8d86d8b"
   },
   "source": [
    "## Neural Network Implementation: Convolutional Neural Networks"
   ]
  },
  {
   "cell_type": "markdown",
   "metadata": {
    "id": "f1a4fca1-2b85-4369-8fc3-4fd96a75b136"
   },
   "source": [
    "### Theory Review (7 points)\n",
    "\n",
    "#### True or False\n",
    "\n",
    "After reviewing the lecture slides and Chapter 9 of the Deep learning book on [Convolutional Neural Networks](http://www.deeplearningbook.org/contents/convnets.html), determine whether each of the following statements is **True (T)** or **False (F)**. **Also provide a brief justification as to why you think so.**\n",
    "\n",
    "a) Pooling needs to be removed for handling inputs of varying size. *(1 pt)*\n",
    "\n",
    "b) Given a multilayered convolution neural network, a cell in a second convolutional layer has the same-sized receptive field as a cell in the first convolutional layer. *(1 pt)*\n",
    "\n",
    "c) In the context of edge detection, a convolutional neural network learns features for each pixel separately. *(1 pt)*\n",
    "\n",
    "d) There is an exponential increase in kernel parameters when convolutional neural networks's capabilities are increased to handle transformations like rotation, scaling etc. *(1 pt)*\n",
    "\n",
    "#### Convolutional Neural Networks Parameters\n",
    "\n",
    "a) In your own words, how are the concepts of *sparse interactions*, *parameter sharing*, and *equivariant representations* applied to convolution neural networks? *(1 pts)*\n",
    "\n",
    "\n",
    "b) When applying CNN on language sequences, why is it useful to combine kernels of different size? *(1 pts)*\n",
    "\n",
    "\n",
    "c) If a pixel represent an input unit for an image input to a CNN, what can be considered analogous to a pixel for a linguistic data input? *(1 pts)*  \n",
    "\n",
    "\n"
   ]
  },
  {
   "cell_type": "markdown",
   "metadata": {},
   "source": [
    "## <font color=\"blue\">Done</font> "
   ]
  },
  {
   "cell_type": "markdown",
   "metadata": {},
   "source": [
    "1. False\n",
    "\n",
    "For many tasks, pooling is essential for handling inputs of varying size. For example, if we want to classify images of variable size, the input to the classiﬁcation layer must have a ﬁxed size. This is usually accomplished by varying the size of an oﬀset between pooling regions so that the classiﬁcation layer always receives the same number of summary statistics regardless of the input size.\n",
    "\n",
    "\n",
    "2. False\n",
    "\n",
    "The receptive ﬁeld of the units in the deeper layers of a convolutional network is larger than the receptive ﬁeld of the units in the shallow layers.\n",
    "\n",
    "\n",
    "3. True\n",
    "\n",
    "Each pixel in the original image is taken and subtract with the value of its neighboring pixel on the left. Convolution\n",
    "is an extremely eﬃcient way of describing transformations that apply the same linear transformation of a small local region across the entire input.\n",
    "\n",
    "\n",
    "4. True\n",
    "\n",
    "For handling the transformations like rotations and scaling, the cnn needs to have large number of filters. Each of thses filters tries to match with the slightly different orientation of the image. So, this increse in number of filters in cnn increases the kernel parameters."
   ]
  },
  {
   "cell_type": "markdown",
   "metadata": {},
   "source": [
    "a)\n",
    "\n",
    "Convolutional networks, however, typically have sparse interactions (also referred to as sparse connectivity or sparse weights). This is accomplished by making the kernel smaller than the input. For example, when processing an image, the input image might have thousands or millions of pixels, but we can detect small, meaningful features such as edges with kernels that occupy only tens or hundreds of pixels. This means that we need to store fewer parameters, which both reduces the memory requirements of the model and improves its statistical eﬃciency. It also means that computing the output requires fewer operations. \n",
    "\n",
    "Parameter sharing refers to using the same parameter for more than one\n",
    "function in a model. The parameter sharing used by the convolution operation means that rather than learning a separate set of parameters for every location, we learn only one set. This does not aﬀect the runtime of forward propagation—it is still O(k × n), but it does further reduce the storage requirements of the model to k parameters. \n",
    "\n",
    "In the case of convolution, the particular form of parameter sharing causes the layer to have a property called equivariance to translation. A function is equivariant means that if the input changes, the output changes in the same way. Speciﬁcally, a function f(x) is equivariant to a function g if f(g(x)) = g(f(x)). In the case of convolution, if we let g be any function that translates the input, that is, shifts it, then the convolution function is equivariant to g.\n",
    "\n",
    "\n",
    "b)  \n",
    "\n",
    "The kernel size determines the Receptive Field of a Convolutional Neural Network. So by using diffent size kernels we can learn the patterns effectively from the data.\n",
    "\n",
    "c) \n",
    "\n",
    "Words are analogous to a pixel for a linguistic data input."
   ]
  },
  {
   "cell_type": "markdown",
   "metadata": {
    "id": "56cadd1e-83ee-4cbd-88ee-0d28cf02e56e"
   },
   "source": [
    "### Implementation (3 pts)\n",
    "\n",
    "In this exercise, we will continue to work with [the PyTorch Datasets Class](https://pytorch.org/vision/stable/datasets.html) to obtain\n",
    "[the CIFAR10 Dataset](https://www.cs.toronto.edu/~kriz/cifar.html). Instead of the simple neural network from the previous assignment, we are going to implement a convolution neural networks (CNN) model to classify the images in this dataset into their proper classes.\n",
    "\n",
    "Your CNN model will have the following architecture:\n",
    "\n",
    "\n",
    "* It has five convolution blocks. \n",
    "* Each block consists of *convolution*, *max pooling* and *ReLU* operation in that order. \n",
    "* We will use 3×3 kernels in all convolutional layers. Set the padding and stride of the convolutional layers so that they maintain the spatial dimensions. \n",
    "* Max pooling operations are done with 2×2 kernels, with a stride of 2, thereby halving the spatial resolution each time. \n",
    "* Finally, five stacking these five blocks leads to a 512 × 1 × 1 feature map. \n",
    "* Classification is achieved by a fully connected layer. \n",
    "\n",
    "Implement a class *ConvNet* to define the model described. The ConvNet takes 32 × 32 color images as inputs and has 5 hidden layers with 128, 512, 512, 512, 512 filters, and produces 10-class classification. We will train the convolutional neural networks on the CIFAR-10 dataset. Feel free to incorporate drop-put, batch normalization, and early stopping if desired. Evaluate your trained model on the test set and report your findings. Hyperparameter values and some helper functions are provided in the `solution.py` file where you can continue your implementation.\n",
    "\n",
    "For loss, you can use nn.CrossEntropyLoss() and for optimization, you can use the Adam optimizer with the learning rate of 2e-3 and weight decay of 0.001. \n",
    "       \n",
    "**Note**: To speed up trainining on the entire dataset, you may want an access to a GPU (CPU runtime > 10 hrs vs < 5 mins GPU). We recommend you make use of [Google Colab](https://colab.research.google.com/?utm_source=scs-index). You may also partition the dataset and work with a smaller sample size if you do not have access to a GPU. For tutorials on how to use Google Colab for deep learning and their file organization, you may find following tutorials helpful: \n",
    "\n",
    "* [Neptune AI Blog: Using Google Colab for Deep Learning](https://neptune.ai/blog/how-to-use-google-colab-for-deep-learning-complete-tutorial)  \n",
    "* [Neptune AI Blog: Dealing with Files in Google Colab](https://neptune.ai/blog/google-colab-dealing-with-files)"
   ]
  },
  {
   "cell_type": "code",
   "execution_count": 1,
   "metadata": {
    "id": "feef094d-d753-4e3d-b5ef-d720810dae31"
   },
   "outputs": [],
   "source": [
    "%load_ext autoreload\n",
    "%autoreload 2\n",
    "%matplotlib inline"
   ]
  },
  {
   "cell_type": "code",
   "execution_count": 2,
   "metadata": {},
   "outputs": [
    {
     "name": "stdout",
     "output_type": "stream",
     "text": [
      "Files already downloaded and verified\n",
      "Files already downloaded and verified\n",
      "Epoch :  1\n",
      "Train loss :  1.2931545135926228\n",
      "Train accuracy:  0.5336122448979592\n",
      "Valid loss :  4.461867809295654\n",
      "Valid accuracy：  0.162\n",
      "Epoch :  2\n",
      "Train loss :  0.8756679452195459\n",
      "Train accuracy:  0.6922244897959183\n",
      "Valid loss :  4.086569309234619\n",
      "Valid accuracy：  0.109\n",
      "Epoch :  3\n",
      "Train loss :  0.763453116465588\n",
      "Train accuracy:  0.7346734693877551\n",
      "Valid loss :  2.3754541873931885\n",
      "Valid accuracy：  0.215\n",
      "Epoch :  4\n",
      "Train loss :  0.7011581688511128\n",
      "Train accuracy:  0.758265306122449\n",
      "Valid loss :  2.6442625522613525\n",
      "Valid accuracy：  0.213\n",
      "Epoch :  5\n",
      "Train loss :  0.6554276445690467\n",
      "Train accuracy:  0.7759795918367347\n",
      "Valid loss :  3.597146511077881\n",
      "Valid accuracy：  0.093\n",
      "Epoch :  6\n",
      "Train loss :  0.6145992972412888\n",
      "Train accuracy:  0.790530612244898\n",
      "Valid loss :  2.568336248397827\n",
      "Valid accuracy：  0.171\n",
      "Epoch :  7\n",
      "Train loss :  0.5768639538969312\n",
      "Train accuracy:  0.8039183673469388\n",
      "Valid loss :  3.3396291732788086\n",
      "Valid accuracy：  0.179\n",
      "Epoch :  8\n",
      "Train loss :  0.549319610303762\n",
      "Train accuracy:  0.8129387755102041\n",
      "Valid loss :  2.2414724826812744\n",
      "Valid accuracy：  0.277\n",
      "Epoch :  9\n",
      "Train loss :  0.5276590561380192\n",
      "Train accuracy:  0.8192448979591836\n",
      "Valid loss :  2.505789279937744\n",
      "Valid accuracy：  0.287\n",
      "Epoch :  10\n",
      "Train loss :  0.5052610688063564\n",
      "Train accuracy:  0.8283265306122449\n",
      "Valid loss :  2.272779703140259\n",
      "Valid accuracy：  0.312\n",
      "Epoch :  11\n",
      "Train loss :  0.4851846666968599\n",
      "Train accuracy:  0.8336530612244898\n",
      "Valid loss :  2.7914023399353027\n",
      "Valid accuracy：  0.296\n",
      "Epoch :  12\n",
      "Train loss :  0.46309733159688055\n",
      "Train accuracy:  0.8431632653061224\n",
      "Valid loss :  3.092089891433716\n",
      "Valid accuracy：  0.212\n",
      "Epoch :  13\n",
      "Train loss :  0.4427925441946302\n",
      "Train accuracy:  0.8484897959183674\n",
      "Valid loss :  2.909813404083252\n",
      "Valid accuracy：  0.254\n",
      "Epoch :  14\n",
      "Train loss :  0.42400984289694804\n",
      "Train accuracy:  0.8542448979591837\n",
      "Valid loss :  5.338534832000732\n",
      "Valid accuracy：  0.13\n",
      "Epoch :  15\n",
      "Train loss :  0.41681887835872417\n",
      "Train accuracy:  0.8584897959183674\n",
      "Valid loss :  2.957101583480835\n",
      "Valid accuracy：  0.18\n",
      "Epoch :  16\n",
      "Train loss :  0.4056385723911986\n",
      "Train accuracy:  0.861\n",
      "Valid loss :  2.356072187423706\n",
      "Valid accuracy：  0.313\n",
      "Epoch :  17\n",
      "Train loss :  0.3996065131863769\n",
      "Train accuracy:  0.8648163265306122\n",
      "Valid loss :  2.3601489067077637\n",
      "Valid accuracy：  0.334\n",
      "Epoch :  18\n",
      "Train loss :  0.39048656146137084\n",
      "Train accuracy:  0.8667551020408163\n",
      "Valid loss :  2.6550536155700684\n",
      "Valid accuracy：  0.31\n",
      "Epoch :  19\n",
      "Train loss :  0.3787486943055172\n",
      "Train accuracy:  0.8709183673469387\n",
      "Valid loss :  2.435605049133301\n",
      "Valid accuracy：  0.32\n",
      "Epoch :  20\n",
      "Train loss :  0.3681143466915403\n",
      "Train accuracy:  0.8726530612244898\n",
      "Valid loss :  3.451387405395508\n",
      "Valid accuracy：  0.213\n",
      "Epoch :  21\n",
      "Train loss :  0.3586907422056004\n",
      "Train accuracy:  0.876734693877551\n",
      "Valid loss :  3.3705849647521973\n",
      "Valid accuracy：  0.265\n",
      "Epoch :  22\n",
      "Train loss :  0.3543700090476445\n",
      "Train accuracy:  0.8794897959183674\n",
      "Valid loss :  4.6974992752075195\n",
      "Valid accuracy：  0.187\n",
      "Epoch :  23\n",
      "Train loss :  0.3549785107982402\n",
      "Train accuracy:  0.878265306122449\n",
      "Valid loss :  2.725431203842163\n",
      "Valid accuracy：  0.299\n",
      "Epoch :  24\n",
      "Train loss :  0.3464247367211751\n",
      "Train accuracy:  0.8815306122448979\n",
      "Valid loss :  2.6108975410461426\n",
      "Valid accuracy：  0.329\n",
      "Epoch :  25\n",
      "Train loss :  0.3463787335522321\n",
      "Train accuracy:  0.8801020408163265\n",
      "Valid loss :  2.6856865882873535\n",
      "Valid accuracy：  0.339\n",
      "Training Completed\n"
     ]
    }
   ],
   "source": [
    "# from solution import your functions\n",
    "from solution import train_validate\n",
    "\n",
    "model = train_validate(epochs = 25)"
   ]
  },
  {
   "cell_type": "code",
   "execution_count": 4,
   "metadata": {},
   "outputs": [
    {
     "name": "stdout",
     "output_type": "stream",
     "text": [
      "Files already downloaded and verified\n",
      "Files already downloaded and verified\n",
      "_____________________________________________________________\n",
      "Test loss :  2.625838041305542\n",
      "Test accuracy :  0.3488\n"
     ]
    }
   ],
   "source": [
    "from solution_assignment8 import test\n",
    "\n",
    "test(model)"
   ]
  },
  {
   "cell_type": "markdown",
   "metadata": {
    "id": "iM2VTjJQ1tfZ"
   },
   "source": [
    "### Bonus\n",
    "\n",
    "Implement a function to calculate the number of traininable parameters (1 pt) and another function to visualize the filter weights (1 pt). "
   ]
  },
  {
   "cell_type": "code",
   "execution_count": null,
   "metadata": {},
   "outputs": [],
   "source": [
    "# from solution import your functions"
   ]
  },
  {
   "cell_type": "code",
   "execution_count": 5,
   "metadata": {},
   "outputs": [
    {
     "data": {
      "text/plain": [
       "7741322"
      ]
     },
     "execution_count": 5,
     "metadata": {},
     "output_type": "execute_result"
    }
   ],
   "source": [
    "from solution_assignment8 import *\n",
    "\n",
    "PrintModelSize(model)"
   ]
  },
  {
   "cell_type": "code",
   "execution_count": 6,
   "metadata": {},
   "outputs": [
    {
     "data": {
      "image/png": "[encoded data removed]",
      "text/plain": [
       "<Figure size 432x288 with 1 Axes>"
      ]
     },
     "metadata": {
      "needs_background": "light"
     },
     "output_type": "display_data"
    }
   ],
   "source": [
    "VisualizeFilter(model)"
   ]
  }
 ],
 "metadata": {
  "accelerator": "GPU",
  "colab": {
   "name": "assignment_8.ipynb",
   "provenance": []
  },
  "kernelspec": {
   "display_name": "Python 3",
   "language": "python",
   "name": "python3"
  },
  "language_info": {
   "codemirror_mode": {
    "name": "ipython",
    "version": 3
   },
   "file_extension": ".py",
   "mimetype": "text/x-python",
   "name": "python",
   "nbconvert_exporter": "python",
   "pygments_lexer": "ipython3",
   "version": "3.8.5"
  },
  "toc": {
   "base_numbering": 1,
   "nav_menu": {},
   "number_sections": true,
   "sideBar": true,
   "skip_h1_title": false,
   "title_cell": "Table of Contents",
   "title_sidebar": "Contents",
   "toc_cell": false,
   "toc_position": {},
   "toc_section_display": true,
   "toc_window_display": false
  }
 },
 "nbformat": 4,
 "nbformat_minor": 5
}
